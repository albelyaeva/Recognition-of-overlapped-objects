{
 "cells": [
  {
   "cell_type": "code",
   "execution_count": 0,
   "metadata": {
    "colab": {
     "base_uri": "https://localhost:8080/",
     "height": 269
    },
    "colab_type": "code",
    "id": "JTRI-KoqhqiF",
    "outputId": "a0bb0817-1e3e-43c3-f8db-865cd5d1bc82"
   },
   "outputs": [
    {
     "name": "stdout",
     "output_type": "stream",
     "text": [
      "Collecting keras==2.2.4\n",
      "\u001b[?25l  Downloading https://files.pythonhosted.org/packages/5e/10/aa32dad071ce52b5502266b5c659451cfd6ffcbf14e6c8c4f16c0ff5aaab/Keras-2.2.4-py2.py3-none-any.whl (312kB)\n",
      "\r",
      "\u001b[K     |█                               | 10kB 22.3MB/s eta 0:00:01\r",
      "\u001b[K     |██                              | 20kB 5.8MB/s eta 0:00:01\r",
      "\u001b[K     |███▏                            | 30kB 8.1MB/s eta 0:00:01\r",
      "\u001b[K     |████▏                           | 40kB 10.2MB/s eta 0:00:01\r",
      "\u001b[K     |█████▎                          | 51kB 6.8MB/s eta 0:00:01\r",
      "\u001b[K     |██████▎                         | 61kB 7.9MB/s eta 0:00:01\r",
      "\u001b[K     |███████▍                        | 71kB 9.0MB/s eta 0:00:01\r",
      "\u001b[K     |████████▍                       | 81kB 9.4MB/s eta 0:00:01\r",
      "\u001b[K     |█████████▍                      | 92kB 8.1MB/s eta 0:00:01\r",
      "\u001b[K     |██████████▌                     | 102kB 8.8MB/s eta 0:00:01\r",
      "\u001b[K     |███████████▌                    | 112kB 8.8MB/s eta 0:00:01\r",
      "\u001b[K     |████████████▋                   | 122kB 8.8MB/s eta 0:00:01\r",
      "\u001b[K     |█████████████▋                  | 133kB 8.8MB/s eta 0:00:01\r",
      "\u001b[K     |██████████████▊                 | 143kB 8.8MB/s eta 0:00:01\r",
      "\u001b[K     |███████████████▊                | 153kB 8.8MB/s eta 0:00:01\r",
      "\u001b[K     |████████████████▊               | 163kB 8.8MB/s eta 0:00:01\r",
      "\u001b[K     |█████████████████▉              | 174kB 8.8MB/s eta 0:00:01\r",
      "\u001b[K     |██████████████████▉             | 184kB 8.8MB/s eta 0:00:01\r",
      "\u001b[K     |████████████████████            | 194kB 8.8MB/s eta 0:00:01\r",
      "\u001b[K     |█████████████████████           | 204kB 8.8MB/s eta 0:00:01\r",
      "\u001b[K     |██████████████████████          | 215kB 8.8MB/s eta 0:00:01\r",
      "\u001b[K     |███████████████████████         | 225kB 8.8MB/s eta 0:00:01\r",
      "\u001b[K     |████████████████████████▏       | 235kB 8.8MB/s eta 0:00:01\r",
      "\u001b[K     |█████████████████████████▏      | 245kB 8.8MB/s eta 0:00:01\r",
      "\u001b[K     |██████████████████████████▏     | 256kB 8.8MB/s eta 0:00:01\r",
      "\u001b[K     |███████████████████████████▎    | 266kB 8.8MB/s eta 0:00:01\r",
      "\u001b[K     |████████████████████████████▎   | 276kB 8.8MB/s eta 0:00:01\r",
      "\u001b[K     |█████████████████████████████▍  | 286kB 8.8MB/s eta 0:00:01\r",
      "\u001b[K     |██████████████████████████████▍ | 296kB 8.8MB/s eta 0:00:01\r",
      "\u001b[K     |███████████████████████████████▌| 307kB 8.8MB/s eta 0:00:01\r",
      "\u001b[K     |████████████████████████████████| 317kB 8.8MB/s \n",
      "\u001b[?25hRequirement already satisfied: keras-preprocessing>=1.0.5 in /usr/local/lib/python3.6/dist-packages (from keras==2.2.4) (1.1.2)\n",
      "Requirement already satisfied: pyyaml in /usr/local/lib/python3.6/dist-packages (from keras==2.2.4) (3.13)\n",
      "Requirement already satisfied: h5py in /usr/local/lib/python3.6/dist-packages (from keras==2.2.4) (2.10.0)\n",
      "Requirement already satisfied: scipy>=0.14 in /usr/local/lib/python3.6/dist-packages (from keras==2.2.4) (1.4.1)\n",
      "Requirement already satisfied: keras-applications>=1.0.6 in /usr/local/lib/python3.6/dist-packages (from keras==2.2.4) (1.0.8)\n",
      "Requirement already satisfied: numpy>=1.9.1 in /usr/local/lib/python3.6/dist-packages (from keras==2.2.4) (1.18.4)\n",
      "Requirement already satisfied: six>=1.9.0 in /usr/local/lib/python3.6/dist-packages (from keras==2.2.4) (1.12.0)\n",
      "Installing collected packages: keras\n",
      "  Found existing installation: Keras 2.3.1\n",
      "    Uninstalling Keras-2.3.1:\n",
      "      Successfully uninstalled Keras-2.3.1\n",
      "Successfully installed keras-2.2.4\n"
     ]
    }
   ],
   "source": [
    "!pip install keras==2.2.4"
   ]
  },
  {
   "cell_type": "code",
   "execution_count": 0,
   "metadata": {
    "colab": {
     "base_uri": "https://localhost:8080/",
     "height": 50
    },
    "colab_type": "code",
    "id": "Co96ZAgChqiJ",
    "outputId": "d934742b-d89c-4db6-d94e-ad96e3d07896"
   },
   "outputs": [
    {
     "name": "stdout",
     "output_type": "stream",
     "text": [
      "TensorFlow 1.x selected.\n"
     ]
    },
    {
     "name": "stderr",
     "output_type": "stream",
     "text": [
      "Using TensorFlow backend.\n"
     ]
    }
   ],
   "source": [
    "from __future__ import print_function\n",
    "%tensorflow_version 1.x\n",
    "from keras import backend as K\n",
    "from keras.layers import Layer\n",
    "from keras import activations\n",
    "from keras import utils\n",
    "from keras.models import Model\n",
    "from keras.layers import *\n",
    "from keras.preprocessing.image import ImageDataGenerator\n",
    "from keras.applications.vgg16 import VGG16, preprocess_input\n",
    "from keras.applications import InceptionV3\n",
    "from keras.optimizers import RMSprop, Adam, SGD, Nadam\n",
    "from keras.preprocessing.image import ImageDataGenerator\n",
    "from keras.callbacks import ReduceLROnPlateau, ModelCheckpoint, EarlyStopping\n",
    "from keras import regularizers\n",
    "import tensorflow as tf\n",
    "from keras import initializers, layers"
   ]
  },
  {
   "cell_type": "code",
   "execution_count": 0,
   "metadata": {
    "colab": {},
    "colab_type": "code",
    "id": "SzIbpnyzhqiM"
   },
   "outputs": [],
   "source": [
    "def squash(x, axis=-1):\n",
    "    s_squared_norm = K.sum(K.square(x), axis, keepdims=True) + K.epsilon()\n",
    "    scale = K.sqrt(s_squared_norm) / (0.5 + s_squared_norm)\n",
    "    return scale * x"
   ]
  },
  {
   "cell_type": "code",
   "execution_count": 0,
   "metadata": {
    "colab": {},
    "colab_type": "code",
    "id": "q0-p1FcAhqiP"
   },
   "outputs": [],
   "source": [
    "# define our own softmax function instead of K.softmax\n",
    "# because K.softmax can not specify axis.\n",
    "def softmax(x, axis=-1):\n",
    "    ex = K.exp(x - K.max(x, axis=axis, keepdims=True))\n",
    "    return ex / K.sum(ex, axis=axis, keepdims=True)"
   ]
  },
  {
   "cell_type": "code",
   "execution_count": 0,
   "metadata": {
    "colab": {},
    "colab_type": "code",
    "id": "VoiOu1c7hqiT"
   },
   "outputs": [],
   "source": [
    "class Capsule(Layer):\n",
    "    \"\"\"A Capsule Implement with Pure Keras\n",
    "    There are two vesions of Capsule.\n",
    "    One is like dense layer (for the fixed-shape input),\n",
    "    and the other is like timedistributed dense (for various length input).\n",
    "\n",
    "    The input shape of Capsule must be (batch_size,\n",
    "                                        input_num_capsule,\n",
    "                                        input_dim_capsule\n",
    "                                       )\n",
    "    and the output shape is (batch_size,\n",
    "                             num_capsule,\n",
    "                             dim_capsule\n",
    "                            )\n",
    "\n",
    "    Capsule Implement is from https://github.com/bojone/Capsule/\n",
    "    Capsule Paper: https://arxiv.org/abs/1710.09829\n",
    "    \"\"\"\n",
    "\n",
    "    def __init__(self,\n",
    "                 num_capsule,\n",
    "                 dim_capsule,\n",
    "                 routings=3,\n",
    "                 share_weights=True,\n",
    "                 activation='squash',\n",
    "                 **kwargs):\n",
    "        super(Capsule, self).__init__(**kwargs)\n",
    "        self.num_capsule = num_capsule\n",
    "        self.dim_capsule = dim_capsule\n",
    "        self.routings = routings\n",
    "        self.share_weights = share_weights\n",
    "        if activation == 'squash':\n",
    "            self.activation = squash\n",
    "        else:\n",
    "            self.activation = activations.get(activation)\n",
    "\n",
    "    def build(self, input_shape):\n",
    "        input_dim_capsule = input_shape[-1]\n",
    "        if self.share_weights:\n",
    "            self.kernel = self.add_weight(\n",
    "                name='capsule_kernel',\n",
    "                shape=(1, input_dim_capsule,\n",
    "                       self.num_capsule * self.dim_capsule),\n",
    "                initializer='glorot_uniform',\n",
    "                trainable=True)\n",
    "        else:\n",
    "            input_num_capsule = input_shape[-2]\n",
    "            self.kernel = self.add_weight(\n",
    "                name='capsule_kernel',\n",
    "                shape=(input_num_capsule, input_dim_capsule,\n",
    "                       self.num_capsule * self.dim_capsule),\n",
    "                initializer='glorot_uniform',\n",
    "                trainable=True)\n",
    "\n",
    "    def call(self, inputs):\n",
    "        \"\"\"Following the routing algorithm from Hinton's paper,\n",
    "        but replace b = b + <u,v> with b = <u,v>.\n",
    "\n",
    "        This change can improve the feature representation of Capsule.\n",
    "\n",
    "        However, you can replace\n",
    "            b = K.batch_dot(outputs, hat_inputs, [2, 3])\n",
    "        with\n",
    "            b += K.batch_dot(outputs, hat_inputs, [2, 3])\n",
    "        to realize a standard routing.\n",
    "        \"\"\"\n",
    "        if self.share_weights:\n",
    "            hat_inputs = K.conv1d(inputs, self.kernel)\n",
    "        else:\n",
    "            hat_inputs = K.local_conv1d(inputs, self.kernel, [1], [1])\n",
    "\n",
    "        batch_size = K.shape(inputs)[0]\n",
    "        input_num_capsule = K.shape(inputs)[1]\n",
    "        hat_inputs = K.reshape(hat_inputs,\n",
    "                               (batch_size, input_num_capsule,\n",
    "                                self.num_capsule, self.dim_capsule))\n",
    "        hat_inputs = K.permute_dimensions(hat_inputs, (0, 2, 1, 3))\n",
    "\n",
    "        b = K.zeros_like(hat_inputs[:, :, :, 0])\n",
    "        for i in range(self.routings):\n",
    "            c = softmax(b, 1)\n",
    "            o = self.activation(K.batch_dot(c, hat_inputs, [2, 2]))\n",
    "            if i < self.routings - 1:\n",
    "                b = K.batch_dot(o, hat_inputs, [2, 3])\n",
    "                if K.backend() == 'theano':\n",
    "                    o = K.sum(o, axis=1)\n",
    "\n",
    "        return o\n",
    "\n",
    "    def compute_output_shape(self, input_shape):\n",
    "        return (None, self.num_capsule, self.dim_capsule)"
   ]
  },
  {
   "cell_type": "code",
   "execution_count": 0,
   "metadata": {
    "colab": {
     "base_uri": "https://localhost:8080/",
     "height": 1000
    },
    "colab_type": "code",
    "id": "SlFrisf6hqiV",
    "outputId": "7ade93d6-95ba-42be-d11d-59bdea918500"
   },
   "outputs": [
    {
     "name": "stdout",
     "output_type": "stream",
     "text": [
      "WARNING:tensorflow:From /usr/local/lib/python3.6/dist-packages/keras/backend/tensorflow_backend.py:74: The name tf.get_default_graph is deprecated. Please use tf.compat.v1.get_default_graph instead.\n",
      "\n",
      "WARNING:tensorflow:From /usr/local/lib/python3.6/dist-packages/keras/backend/tensorflow_backend.py:517: The name tf.placeholder is deprecated. Please use tf.compat.v1.placeholder instead.\n",
      "\n",
      "WARNING:tensorflow:From /usr/local/lib/python3.6/dist-packages/keras/backend/tensorflow_backend.py:3976: The name tf.nn.max_pool is deprecated. Please use tf.nn.max_pool2d instead.\n",
      "\n",
      "WARNING:tensorflow:From /usr/local/lib/python3.6/dist-packages/keras/backend/tensorflow_backend.py:4138: The name tf.random_uniform is deprecated. Please use tf.random.uniform instead.\n",
      "\n",
      "Downloading data from https://github.com/fchollet/deep-learning-models/releases/download/v0.1/vgg16_weights_tf_dim_ordering_tf_kernels_notop.h5\n",
      "58892288/58889256 [==============================] - 2s 0us/step\n",
      "WARNING:tensorflow:From /usr/local/lib/python3.6/dist-packages/keras/backend/tensorflow_backend.py:174: The name tf.get_default_session is deprecated. Please use tf.compat.v1.get_default_session instead.\n",
      "\n",
      "WARNING:tensorflow:From /usr/local/lib/python3.6/dist-packages/keras/backend/tensorflow_backend.py:181: The name tf.ConfigProto is deprecated. Please use tf.compat.v1.ConfigProto instead.\n",
      "\n",
      "WARNING:tensorflow:From /usr/local/lib/python3.6/dist-packages/keras/backend/tensorflow_backend.py:186: The name tf.Session is deprecated. Please use tf.compat.v1.Session instead.\n",
      "\n",
      "WARNING:tensorflow:From /usr/local/lib/python3.6/dist-packages/keras/backend/tensorflow_backend.py:190: The name tf.global_variables is deprecated. Please use tf.compat.v1.global_variables instead.\n",
      "\n",
      "WARNING:tensorflow:From /usr/local/lib/python3.6/dist-packages/keras/backend/tensorflow_backend.py:199: The name tf.is_variable_initialized is deprecated. Please use tf.compat.v1.is_variable_initialized instead.\n",
      "\n",
      "WARNING:tensorflow:From /usr/local/lib/python3.6/dist-packages/keras/backend/tensorflow_backend.py:206: The name tf.variables_initializer is deprecated. Please use tf.compat.v1.variables_initializer instead.\n",
      "\n",
      "_________________________________________________________________\n",
      "Layer (type)                 Output Shape              Param #   \n",
      "=================================================================\n",
      "input_1 (InputLayer)         (None, 800, 800, 3)       0         \n",
      "_________________________________________________________________\n",
      "max_pooling2d_1 (MaxPooling2 (None, 400, 400, 3)       0         \n",
      "_________________________________________________________________\n",
      "block1_conv1 (Conv2D)        (None, 400, 400, 64)      1792      \n",
      "_________________________________________________________________\n",
      "block1_conv2 (Conv2D)        (None, 400, 400, 64)      36928     \n",
      "_________________________________________________________________\n",
      "block1_pool (MaxPooling2D)   (None, 200, 200, 64)      0         \n",
      "_________________________________________________________________\n",
      "block2_conv1 (Conv2D)        (None, 200, 200, 128)     73856     \n",
      "_________________________________________________________________\n",
      "block2_conv2 (Conv2D)        (None, 200, 200, 128)     147584    \n",
      "_________________________________________________________________\n",
      "block2_pool (MaxPooling2D)   (None, 100, 100, 128)     0         \n",
      "_________________________________________________________________\n",
      "block3_conv1 (Conv2D)        (None, 100, 100, 256)     295168    \n",
      "_________________________________________________________________\n",
      "block3_conv2 (Conv2D)        (None, 100, 100, 256)     590080    \n",
      "_________________________________________________________________\n",
      "block3_conv3 (Conv2D)        (None, 100, 100, 256)     590080    \n",
      "_________________________________________________________________\n",
      "block3_pool (MaxPooling2D)   (None, 50, 50, 256)       0         \n",
      "_________________________________________________________________\n",
      "block4_conv1 (Conv2D)        (None, 50, 50, 512)       1180160   \n",
      "_________________________________________________________________\n",
      "block4_conv2 (Conv2D)        (None, 50, 50, 512)       2359808   \n",
      "_________________________________________________________________\n",
      "block4_conv3 (Conv2D)        (None, 50, 50, 512)       2359808   \n",
      "_________________________________________________________________\n",
      "block4_pool (MaxPooling2D)   (None, 25, 25, 512)       0         \n",
      "_________________________________________________________________\n",
      "block5_conv1 (Conv2D)        (None, 25, 25, 512)       2359808   \n",
      "_________________________________________________________________\n",
      "block5_conv2 (Conv2D)        (None, 25, 25, 512)       2359808   \n",
      "_________________________________________________________________\n",
      "block5_conv3 (Conv2D)        (None, 25, 25, 512)       2359808   \n",
      "_________________________________________________________________\n",
      "block5_pool (MaxPooling2D)   (None, 12, 12, 512)       0         \n",
      "=================================================================\n",
      "Total params: 14,714,688\n",
      "Trainable params: 14,714,688\n",
      "Non-trainable params: 0\n",
      "_________________________________________________________________\n"
     ]
    }
   ],
   "source": [
    "input_image = Input(shape=(800, 800, 3))\n",
    "x = MaxPooling2D((2, 2))(input_image)\n",
    "\n",
    "# A InceptionResNetV2 Conv2D model\n",
    "base_model = VGG16(include_top=False, weights='imagenet', input_tensor=x)\n",
    "\n",
    "base_model.summary()"
   ]
  },
  {
   "cell_type": "code",
   "execution_count": 0,
   "metadata": {
    "colab": {},
    "colab_type": "code",
    "id": "GYY6_HXIhqiY"
   },
   "outputs": [],
   "source": [
    "for layer in base_model.layers:\n",
    "    layer.trainable = False"
   ]
  },
  {
   "cell_type": "code",
   "execution_count": 0,
   "metadata": {
    "colab": {
     "base_uri": "https://localhost:8080/",
     "height": 1000
    },
    "colab_type": "code",
    "id": "-2RO6lx2hqic",
    "outputId": "f233f3eb-90f0-40c5-e400-9630cbcb9b9b"
   },
   "outputs": [
    {
     "name": "stdout",
     "output_type": "stream",
     "text": [
      "WARNING:tensorflow:From /usr/local/lib/python3.6/dist-packages/keras/backend/tensorflow_backend.py:133: The name tf.placeholder_with_default is deprecated. Please use tf.compat.v1.placeholder_with_default instead.\n",
      "\n",
      "WARNING:tensorflow:From /usr/local/lib/python3.6/dist-packages/keras/backend/tensorflow_backend.py:3445: calling dropout (from tensorflow.python.ops.nn_ops) with keep_prob is deprecated and will be removed in a future version.\n",
      "Instructions for updating:\n",
      "Please use `rate` instead of `keep_prob`. Rate should be set to `rate = 1 - keep_prob`.\n",
      "_________________________________________________________________\n",
      "Layer (type)                 Output Shape              Param #   \n",
      "=================================================================\n",
      "input_1 (InputLayer)         (None, 800, 800, 3)       0         \n",
      "_________________________________________________________________\n",
      "max_pooling2d_1 (MaxPooling2 (None, 400, 400, 3)       0         \n",
      "_________________________________________________________________\n",
      "block1_conv1 (Conv2D)        (None, 400, 400, 64)      1792      \n",
      "_________________________________________________________________\n",
      "block1_conv2 (Conv2D)        (None, 400, 400, 64)      36928     \n",
      "_________________________________________________________________\n",
      "block1_pool (MaxPooling2D)   (None, 200, 200, 64)      0         \n",
      "_________________________________________________________________\n",
      "block2_conv1 (Conv2D)        (None, 200, 200, 128)     73856     \n",
      "_________________________________________________________________\n",
      "block2_conv2 (Conv2D)        (None, 200, 200, 128)     147584    \n",
      "_________________________________________________________________\n",
      "block2_pool (MaxPooling2D)   (None, 100, 100, 128)     0         \n",
      "_________________________________________________________________\n",
      "block3_conv1 (Conv2D)        (None, 100, 100, 256)     295168    \n",
      "_________________________________________________________________\n",
      "block3_conv2 (Conv2D)        (None, 100, 100, 256)     590080    \n",
      "_________________________________________________________________\n",
      "block3_conv3 (Conv2D)        (None, 100, 100, 256)     590080    \n",
      "_________________________________________________________________\n",
      "block3_pool (MaxPooling2D)   (None, 50, 50, 256)       0         \n",
      "_________________________________________________________________\n",
      "block4_conv1 (Conv2D)        (None, 50, 50, 512)       1180160   \n",
      "_________________________________________________________________\n",
      "block4_conv2 (Conv2D)        (None, 50, 50, 512)       2359808   \n",
      "_________________________________________________________________\n",
      "block4_conv3 (Conv2D)        (None, 50, 50, 512)       2359808   \n",
      "_________________________________________________________________\n",
      "block4_pool (MaxPooling2D)   (None, 25, 25, 512)       0         \n",
      "_________________________________________________________________\n",
      "conv2d_1 (Conv2D)            (None, 17, 17, 256)       10617088  \n",
      "_________________________________________________________________\n",
      "dropout_1 (Dropout)          (None, 17, 17, 256)       0         \n",
      "_________________________________________________________________\n",
      "reshape_1 (Reshape)          (None, 578, 128)          0         \n",
      "_________________________________________________________________\n",
      "capsule_1 (Capsule)          (None, 2, 16)             4096      \n",
      "_________________________________________________________________\n",
      "flatten_1 (Flatten)          (None, 32)                0         \n",
      "_________________________________________________________________\n",
      "dropout_2 (Dropout)          (None, 32)                0         \n",
      "_________________________________________________________________\n",
      "dense_1 (Dense)              (None, 1)                 33        \n",
      "=================================================================\n",
      "Total params: 18,256,481\n",
      "Trainable params: 10,621,217\n",
      "Non-trainable params: 7,635,264\n",
      "_________________________________________________________________\n"
     ]
    }
   ],
   "source": [
    "output = Conv2D(256, kernel_size=(9, 9), strides=(1, 1), activation='relu')(base_model.get_layer(name='block4_pool').output)\n",
    "x =  Dropout(0.25)(output)\n",
    "x = Reshape((-1, 128))(x)\n",
    "capsule = Capsule(2, 16, 2, True)(x)\n",
    "x1 = Flatten()(capsule)\n",
    "x = Dropout(0.5)(x1)\n",
    "output = Dense(1, activation='sigmoid')(x)\n",
    "# output = Lambda(lambda z: K.sqrt(K.sum(K.square(z), 2)))(capsule)\n",
    "model1 = Model(inputs=input_image, outputs=output)\n",
    "model1.summary()"
   ]
  },
  {
   "cell_type": "code",
   "execution_count": 0,
   "metadata": {
    "colab": {},
    "colab_type": "code",
    "id": "GOtXkhnif65C"
   },
   "outputs": [],
   "source": [
    "import keras"
   ]
  },
  {
   "cell_type": "code",
   "execution_count": 0,
   "metadata": {
    "colab": {
     "base_uri": "https://localhost:8080/",
     "height": 154
    },
    "colab_type": "code",
    "id": "pU_8mW5Dhqig",
    "outputId": "9df95292-6ab4-42a7-cf17-33a48188218e"
   },
   "outputs": [
    {
     "name": "stdout",
     "output_type": "stream",
     "text": [
      "WARNING:tensorflow:From /usr/local/lib/python3.6/dist-packages/keras/optimizers.py:790: The name tf.train.Optimizer is deprecated. Please use tf.compat.v1.train.Optimizer instead.\n",
      "\n",
      "WARNING:tensorflow:From /usr/local/lib/python3.6/dist-packages/keras/backend/tensorflow_backend.py:3376: The name tf.log is deprecated. Please use tf.math.log instead.\n",
      "\n",
      "WARNING:tensorflow:From /tensorflow-1.15.2/python3.6/tensorflow_core/python/ops/nn_impl.py:183: where (from tensorflow.python.ops.array_ops) is deprecated and will be removed in a future version.\n",
      "Instructions for updating:\n",
      "Use tf.where in 2.0, which has the same broadcast rule as np.where\n"
     ]
    }
   ],
   "source": [
    "opt = keras.optimizers.Adam(lr=1e-3)\n",
    "model1.compile(loss='binary_crossentropy', optimizer=opt, metrics=['accuracy'])"
   ]
  },
  {
   "cell_type": "code",
   "execution_count": 0,
   "metadata": {
    "colab": {},
    "colab_type": "code",
    "id": "JTy06h09hqij"
   },
   "outputs": [],
   "source": [
    "img_height, img_width = 800, 800\n",
    "batch_size = 14"
   ]
  },
  {
   "cell_type": "code",
   "execution_count": 0,
   "metadata": {
    "colab": {
     "base_uri": "https://localhost:8080/",
     "height": 121
    },
    "colab_type": "code",
    "id": "DGYzEhthidE5",
    "outputId": "41975257-94e7-4e5a-bc25-034b29aa2504"
   },
   "outputs": [
    {
     "name": "stdout",
     "output_type": "stream",
     "text": [
      "Go to this URL in a browser: https://accounts.google.com/o/oauth2/auth?client_id=947318989803-6bn6qk8qdgf4n4g3pfee6491hc0brc4i.apps.googleusercontent.com&redirect_uri=urn%3aietf%3awg%3aoauth%3a2.0%3aoob&response_type=code&scope=email%20https%3a%2f%2fwww.googleapis.com%2fauth%2fdocs.test%20https%3a%2f%2fwww.googleapis.com%2fauth%2fdrive%20https%3a%2f%2fwww.googleapis.com%2fauth%2fdrive.photos.readonly%20https%3a%2f%2fwww.googleapis.com%2fauth%2fpeopleapi.readonly\n",
      "\n",
      "Enter your authorization code:\n",
      "··········\n",
      "Mounted at /content/drive/\n"
     ]
    }
   ],
   "source": [
    "from google.colab import drive\n",
    "drive.mount('/content/drive/')"
   ]
  },
  {
   "cell_type": "code",
   "execution_count": 0,
   "metadata": {
    "colab": {},
    "colab_type": "code",
    "id": "KhwImNfVhqin"
   },
   "outputs": [],
   "source": [
    "train_folder = '/content/drive/My Drive/sort/train'\n",
    "validation_folder = '/content/drive/My Drive/sort/validation/'"
   ]
  },
  {
   "cell_type": "code",
   "execution_count": 0,
   "metadata": {
    "colab": {},
    "colab_type": "code",
    "id": "kuW2bo7Nhqiq"
   },
   "outputs": [],
   "source": [
    "train_datagen = ImageDataGenerator(\n",
    "                    preprocessing_function=preprocess_input,\n",
    "                    rescale=1./255,\n",
    "                    horizontal_flip=True,\n",
    "                    vertical_flip=True,\n",
    "                    shear_range=0.2,\n",
    "                    zoom_range=0.2\n",
    "                    \n",
    "                    )\n",
    "test_datagen = ImageDataGenerator(rescale=1./255)\n",
    "val_datagen = ImageDataGenerator(preprocessing_function=preprocess_input,\n",
    "                                 rescale=1./255,\n",
    "                                 rotation_range=10,\n",
    "                                 horizontal_flip=True,\n",
    "                                 vertical_flip=True\n",
    "                               )"
   ]
  },
  {
   "cell_type": "code",
   "execution_count": 0,
   "metadata": {
    "colab": {
     "base_uri": "https://localhost:8080/",
     "height": 50
    },
    "colab_type": "code",
    "id": "b8WT2Kv4hqit",
    "outputId": "573ac0ae-efd6-45e0-9320-0f0807d32ee1"
   },
   "outputs": [
    {
     "name": "stdout",
     "output_type": "stream",
     "text": [
      "Found 6733 images belonging to 2 classes.\n",
      "Found 1675 images belonging to 2 classes.\n"
     ]
    }
   ],
   "source": [
    "train_generator = train_datagen.flow_from_directory(\n",
    "    train_folder,\n",
    "    target_size=(img_height, img_width),\n",
    "    batch_size=batch_size,\n",
    "    shuffle=True,\n",
    "    class_mode='binary',\n",
    "    classes=['one-person', 'more-than-one']\n",
    "    ) # set as training data\n",
    "\n",
    "validation_generator = val_datagen.flow_from_directory(\n",
    "    validation_folder, # same directory as training data\n",
    "    target_size=(img_height, img_width),\n",
    "    batch_size=batch_size,\n",
    "    shuffle=True,\n",
    "    class_mode='binary',\n",
    "    classes=['one-person', 'more-than-one']\n",
    "    ) # set as validation data"
   ]
  },
  {
   "cell_type": "code",
   "execution_count": 0,
   "metadata": {
    "colab": {
     "base_uri": "https://localhost:8080/",
     "height": 34
    },
    "colab_type": "code",
    "id": "VI1ZYSDUmJz9",
    "outputId": "9bff27e5-d9e3-4801-c785-630a942cf1b1"
   },
   "outputs": [
    {
     "name": "stdout",
     "output_type": "stream",
     "text": [
      "Found 2940 images belonging to 2 classes.\n"
     ]
    }
   ],
   "source": [
    "test_generator = test_datagen.flow_from_directory(\n",
    "                    '/content/drive/My Drive/test/',\n",
    "                    target_size=(img_height, img_width),\n",
    "                    batch_size=30,\n",
    "                    shuffle=True,\n",
    "                    class_mode='binary',\n",
    "                    classes=['one-person', 'more-than-one'])"
   ]
  },
  {
   "cell_type": "code",
   "execution_count": 0,
   "metadata": {
    "colab": {},
    "colab_type": "code",
    "id": "s8Hc30gHbBnI"
   },
   "outputs": [],
   "source": [
    "lr=1e-4\n",
    "checkpoint = ModelCheckpoint('/content/drive/My Drive/Colab Notebooks/vg2.h5', \n",
    "                             monitor='val_loss', \n",
    "                             verbose=1, \n",
    "                             save_best_only=True, \n",
    "                             save_weights_only=False, \n",
    "                             mode='min')"
   ]
  },
  {
   "cell_type": "code",
   "execution_count": 0,
   "metadata": {
    "colab": {},
    "colab_type": "code",
    "id": "L42oS_JRbCSC"
   },
   "outputs": [],
   "source": [
    "early = EarlyStopping(monitor='val_loss', patience=10, verbose=0, mode='min')\n",
    "\n",
    "callback_list = [checkpoint, early]"
   ]
  },
  {
   "cell_type": "code",
   "execution_count": 0,
   "metadata": {
    "colab": {},
    "colab_type": "code",
    "id": "t_wwQRVdbGq1"
   },
   "outputs": [],
   "source": [
    "model1.load_weights('/content/drive/My Drive/Colab Notebooks/vg1.h5')"
   ]
  },
  {
   "cell_type": "code",
   "execution_count": 0,
   "metadata": {
    "colab": {
     "base_uri": "https://localhost:8080/",
     "height": 440
    },
    "colab_type": "code",
    "id": "Qwb-_ITBbEMw",
    "outputId": "fa767c59-1382-42bb-971d-ac589bebf028"
   },
   "outputs": [
    {
     "name": "stdout",
     "output_type": "stream",
     "text": [
      "WARNING:tensorflow:From /usr/local/lib/python3.6/dist-packages/keras/backend/tensorflow_backend.py:986: The name tf.assign_add is deprecated. Please use tf.compat.v1.assign_add instead.\n",
      "\n",
      "WARNING:tensorflow:From /usr/local/lib/python3.6/dist-packages/keras/backend/tensorflow_backend.py:973: The name tf.assign is deprecated. Please use tf.compat.v1.assign instead.\n",
      "\n",
      "Epoch 1/5\n",
      "1333/1333 [==============================] - 19328s 14s/step - loss: 0.4861 - acc: 0.7692 - val_loss: 0.4807 - val_acc: 0.7611\n",
      "\n",
      "Epoch 00001: val_loss improved from inf to 0.48073, saving model to /content/drive/My Drive/Colab Notebooks/vg2.h5\n",
      "Epoch 2/5\n",
      "1333/1333 [==============================] - 2120s 2s/step - loss: 0.4621 - acc: 0.7884 - val_loss: 0.4533 - val_acc: 0.7851\n",
      "\n",
      "Epoch 00002: val_loss improved from 0.48073 to 0.45335, saving model to /content/drive/My Drive/Colab Notebooks/vg2.h5\n",
      "Epoch 3/5\n",
      "1333/1333 [==============================] - 2101s 2s/step - loss: 0.4530 - acc: 0.7896 - val_loss: 0.4457 - val_acc: 0.7911\n",
      "\n",
      "Epoch 00003: val_loss improved from 0.45335 to 0.44568, saving model to /content/drive/My Drive/Colab Notebooks/vg2.h5\n",
      "Epoch 4/5\n",
      "1333/1333 [==============================] - 2093s 2s/step - loss: 0.4432 - acc: 0.7993 - val_loss: 0.4334 - val_acc: 0.8022\n",
      "\n",
      "Epoch 00004: val_loss improved from 0.44568 to 0.43344, saving model to /content/drive/My Drive/Colab Notebooks/vg2.h5\n",
      "Epoch 5/5\n",
      "1333/1333 [==============================] - 2079s 2s/step - loss: 0.4325 - acc: 0.8044 - val_loss: 0.4127 - val_acc: 0.8096\n",
      "\n",
      "Epoch 00005: val_loss improved from 0.43344 to 0.41268, saving model to /content/drive/My Drive/Colab Notebooks/vg2.h5\n"
     ]
    }
   ],
   "source": [
    "history = model1.fit_generator(\n",
    "    train_generator,\n",
    "    steps_per_epoch = train_generator.samples // batch_size,\n",
    "    validation_data = validation_generator, \n",
    "    validation_steps = validation_generator.samples // batch_size,\n",
    "    epochs = 5,\n",
    "    callbacks=callback_list)"
   ]
  },
  {
   "cell_type": "code",
   "execution_count": 0,
   "metadata": {
    "colab": {
     "base_uri": "https://localhost:8080/",
     "height": 573
    },
    "colab_type": "code",
    "id": "fRj2vbyJF--3",
    "outputId": "482c5106-c76b-416d-df3b-bd3c428dd792"
   },
   "outputs": [
    {
     "data": {
      "image/png": "[encoded data removed]",
      "text/plain": [
       "<Figure size 432x288 with 1 Axes>"
      ]
     },
     "metadata": {
      "needs_background": "light",
      "tags": []
     },
     "output_type": "display_data"
    },
    {
     "data": {
      "image/png": "[encoded data removed]",
      "text/plain": [
       "<Figure size 432x288 with 1 Axes>"
      ]
     },
     "metadata": {
      "needs_background": "light",
      "tags": []
     },
     "output_type": "display_data"
    }
   ],
   "source": [
    "import matplotlib.pyplot as plt\n",
    "\n",
    "\n",
    "plt.plot(history.history['acc'])\n",
    "plt.plot(history.history['val_acc'])\n",
    "plt.title('Model accuracy')\n",
    "plt.ylabel('Accuracy')\n",
    "plt.xlabel('Epoch')\n",
    "plt.legend(['Train', 'Test'], loc='upper left')\n",
    "plt.show()\n",
    "\n",
    "plt.plot(history.history['loss'])\n",
    "plt.plot(history.history['val_loss'])\n",
    "plt.title('Model loss')\n",
    "plt.ylabel('Loss')\n",
    "plt.xlabel('Epoch')\n",
    "plt.legend(['Train', 'Test'], loc='upper left')\n",
    "plt.show()"
   ]
  },
  {
   "cell_type": "code",
   "execution_count": 0,
   "metadata": {
    "colab": {},
    "colab_type": "code",
    "id": "_QjAhfllgy11"
   },
   "outputs": [],
   "source": [
    "model1.load_weights('/content/drive/My Drive/Colab Notebooks/vg2.h5')"
   ]
  },
  {
   "cell_type": "code",
   "execution_count": 0,
   "metadata": {
    "colab": {
     "base_uri": "https://localhost:8080/",
     "height": 34
    },
    "colab_type": "code",
    "id": "DdtZh2YZHoAJ",
    "outputId": "2e569e19-f465-4110-87e4-7e7734c32029"
   },
   "outputs": [
    {
     "name": "stdout",
     "output_type": "stream",
     "text": [
      "[0.398050120313858, 0.8201474768491763]\n"
     ]
    }
   ],
   "source": [
    "print(model1.evaluate_generator(train_generator, train_generator.samples // batch_size))"
   ]
  },
  {
   "cell_type": "code",
   "execution_count": 0,
   "metadata": {
    "colab": {
     "base_uri": "https://localhost:8080/",
     "height": 34
    },
    "colab_type": "code",
    "id": "m1U-LPwsgoJL",
    "outputId": "ebb31037-ccc6-4267-959c-624c330f9ffb"
   },
   "outputs": [
    {
     "name": "stdout",
     "output_type": "stream",
     "text": [
      "[0.3735845180190339, 0.8431972733565739]\n"
     ]
    }
   ],
   "source": [
    "print(model1.evaluate_generator(test_generator, test_generator.samples // 30))"
   ]
  },
  {
   "cell_type": "markdown",
   "metadata": {},
   "source": [
    "## Data with overlapped objects"
   ]
  },
  {
   "cell_type": "code",
   "execution_count": 0,
   "metadata": {
    "colab": {},
    "colab_type": "code",
    "id": "-l8Z6eOuoYTV"
   },
   "outputs": [],
   "source": [
    "my_callbacks = [\n",
    "    EarlyStopping(patience=4, verbose=1),\n",
    "    ReduceLROnPlateau(factor=0.1, patience=3, min_lr=0.000001, verbose=1),\n",
    "    ModelCheckpoint(filepath = '/content/drive/My Drive/Colab Notebooks/capsoverlap.h5', \n",
    "    verbose=1, save_best_only=True, save_weights_only=False) \n",
    "    ]"
   ]
  },
  {
   "cell_type": "code",
   "execution_count": 0,
   "metadata": {
    "colab": {
     "base_uri": "https://localhost:8080/",
     "height": 440
    },
    "colab_type": "code",
    "id": "j3LSD1f0o01g",
    "outputId": "fd1e4c07-b270-4907-8f8b-34f39ffae361"
   },
   "outputs": [
    {
     "name": "stdout",
     "output_type": "stream",
     "text": [
      "WARNING:tensorflow:From /usr/local/lib/python3.6/dist-packages/keras/backend/tensorflow_backend.py:986: The name tf.assign_add is deprecated. Please use tf.compat.v1.assign_add instead.\n",
      "\n",
      "WARNING:tensorflow:From /usr/local/lib/python3.6/dist-packages/keras/backend/tensorflow_backend.py:973: The name tf.assign is deprecated. Please use tf.compat.v1.assign instead.\n",
      "\n",
      "Epoch 1/5\n",
      "673/673 [==============================] - 3028s 4s/step - loss: 0.3479 - acc: 0.8562 - val_loss: 0.3883 - val_acc: 0.8198\n",
      "\n",
      "Epoch 00001: val_loss improved from inf to 0.38833, saving model to /content/drive/My Drive/Colab Notebooks/capsoverlap.h5\n",
      "Epoch 2/5\n",
      "673/673 [==============================] - 155s 230ms/step - loss: 0.3227 - acc: 0.8703 - val_loss: 0.3707 - val_acc: 0.8336\n",
      "\n",
      "Epoch 00002: val_loss improved from 0.38833 to 0.37066, saving model to /content/drive/My Drive/Colab Notebooks/capsoverlap.h5\n",
      "Epoch 3/5\n",
      "673/673 [==============================] - 153s 227ms/step - loss: 0.3090 - acc: 0.8799 - val_loss: 0.4118 - val_acc: 0.8336\n",
      "\n",
      "Epoch 00003: val_loss did not improve from 0.37066\n",
      "Epoch 4/5\n",
      "673/673 [==============================] - 152s 227ms/step - loss: 0.2970 - acc: 0.8825 - val_loss: 0.3922 - val_acc: 0.8462\n",
      "\n",
      "Epoch 00004: val_loss did not improve from 0.37066\n",
      "Epoch 5/5\n",
      "673/673 [==============================] - 150s 223ms/step - loss: 0.2807 - acc: 0.8948 - val_loss: 0.3688 - val_acc: 0.8408\n",
      "\n",
      "Epoch 00005: val_loss improved from 0.37066 to 0.36879, saving model to /content/drive/My Drive/Colab Notebooks/capsoverlap.h5\n"
     ]
    }
   ],
   "source": [
    "history = model1.fit_generator(\n",
    "    train_generator,\n",
    "    steps_per_epoch = train_generator.samples // batch_size,\n",
    "    validation_data = validation_generator, \n",
    "    validation_steps = validation_generator.samples // batch_size,\n",
    "    epochs = 5,\n",
    "    callbacks=my_callbacks)"
   ]
  },
  {
   "cell_type": "code",
   "execution_count": 0,
   "metadata": {
    "colab": {},
    "colab_type": "code",
    "id": "CT82WrHAVU8_"
   },
   "outputs": [],
   "source": [
    "model1.load_weights('/content/drive/My Drive/Colab Notebooks/capsoverlap.h5')"
   ]
  },
  {
   "cell_type": "code",
   "execution_count": 0,
   "metadata": {
    "colab": {
     "base_uri": "https://localhost:8080/",
     "height": 34
    },
    "colab_type": "code",
    "id": "uOjuocidEgt1",
    "outputId": "f4a2966f-eb9f-4987-ad42-1e1130dfe6ad"
   },
   "outputs": [
    {
     "name": "stdout",
     "output_type": "stream",
     "text": [
      "[0.6087966819114529, 0.7484909458339494]\n"
     ]
    }
   ],
   "source": [
    "print(model1.evaluate_generator(validation_generator, validation_generator.samples // batch_size))"
   ]
  },
  {
   "cell_type": "code",
   "execution_count": null,
   "metadata": {},
   "outputs": [],
   "source": [
    "my_callbacks = [\n",
    "    EarlyStopping(patience=4, verbose=1),\n",
    "    ReduceLROnPlateau(factor=0.1, patience=3, min_lr=0.000001, verbose=1),\n",
    "    ModelCheckpoint(filepath = '/content/drive/My Drive/Colab Notebooks/capsoverlap1.h5', \n",
    "    verbose=1, save_best_only=True, save_weights_only=False) \n",
    "    ]"
   ]
  },
  {
   "cell_type": "code",
   "execution_count": 0,
   "metadata": {
    "colab": {
     "base_uri": "https://localhost:8080/",
     "height": 403
    },
    "colab_type": "code",
    "id": "Vgn2Mt-4Vcra",
    "outputId": "47bb5c2f-d85f-4cbd-b063-e9267415f56d"
   },
   "outputs": [
    {
     "name": "stdout",
     "output_type": "stream",
     "text": [
      "Epoch 1/20\n",
      "673/673 [==============================] - 866s 1s/step - loss: 0.3311 - acc: 0.8636 - val_loss: 0.3631 - val_acc: 0.8455\n",
      "\n",
      "Epoch 00001: val_loss improved from inf to 0.36314, saving model to /content/drive/My Drive/Colab Notebooks/capsoverlap1.h5\n",
      "Epoch 2/20\n",
      "673/673 [==============================] - 836s 1s/step - loss: 0.3256 - acc: 0.8653 - val_loss: 0.3837 - val_acc: 0.8366\n",
      "\n",
      "Epoch 00002: val_loss did not improve from 0.36314\n",
      "Epoch 3/20\n",
      "673/673 [==============================] - 831s 1s/step - loss: 0.3159 - acc: 0.8706 - val_loss: 0.4012 - val_acc: 0.8288\n",
      "\n",
      "Epoch 00003: val_loss did not improve from 0.36314\n",
      "Epoch 4/20\n",
      "673/673 [==============================] - 825s 1s/step - loss: 0.3123 - acc: 0.8737 - val_loss: 0.3772 - val_acc: 0.8396\n",
      "\n",
      "Epoch 00004: ReduceLROnPlateau reducing learning rate to 0.00010000000474974513.\n",
      "\n",
      "Epoch 00004: val_loss did not improve from 0.36314\n",
      "Epoch 5/20\n",
      "673/673 [==============================] - 826s 1s/step - loss: 0.2908 - acc: 0.8829 - val_loss: 0.3665 - val_acc: 0.8462\n",
      "\n",
      "Epoch 00005: val_loss did not improve from 0.36314\n",
      "Epoch 00005: early stopping\n"
     ]
    }
   ],
   "source": [
    "history = model1.fit_generator(\n",
    "    train_generator,\n",
    "    steps_per_epoch = train_generator.samples // batch_size,\n",
    "    validation_data = validation_generator, \n",
    "    validation_steps = validation_generator.samples // batch_size,\n",
    "    epochs = 20,\n",
    "    callbacks=my_callbacks)"
   ]
  }
 ],
 "metadata": {
  "accelerator": "GPU",
  "colab": {
   "collapsed_sections": [],
   "name": "Untitled (3).ipynb",
   "provenance": []
  },
  "kernelspec": {
   "display_name": "labs3",
   "language": "python",
   "name": "labs3"
  },
  "language_info": {
   "codemirror_mode": {
    "name": "ipython",
    "version": 3
   },
   "file_extension": ".py",
   "mimetype": "text/x-python",
   "name": "python",
   "nbconvert_exporter": "python",
   "pygments_lexer": "ipython3",
   "version": "3.6.10"
  }
 },
 "nbformat": 4,
 "nbformat_minor": 1
}
